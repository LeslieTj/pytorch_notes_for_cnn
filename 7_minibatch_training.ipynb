{
 "cells": [
  {
   "cell_type": "markdown",
   "metadata": {},
   "source": [
    "# Mini-Batch Training"
   ]
  },
  {
   "cell_type": "code",
   "execution_count": 1,
   "metadata": {},
   "outputs": [
    {
     "name": "stdout",
     "output_type": "stream",
     "text": [
      "\n",
      "x: [ 1.  2.  3.  4.  5.  6.  7.  8.  9. 10.] \n",
      "y: [10.  9.  8.  7.  6.  5.  4.  3.  2.  1.] \n",
      "\n",
      "Without shuffle:\n",
      "\n",
      "Epoch: 0 |Step:  0 |batch x:  [1. 2. 3. 4. 5.] |batch y:  [10.  9.  8.  7.  6.]\n",
      "Epoch: 0 |Step:  1 |batch x:  [ 6.  7.  8.  9. 10.] |batch y:  [5. 4. 3. 2. 1.]\n",
      "Epoch: 1 |Step:  0 |batch x:  [1. 2. 3. 4. 5.] |batch y:  [10.  9.  8.  7.  6.]\n",
      "Epoch: 1 |Step:  1 |batch x:  [ 6.  7.  8.  9. 10.] |batch y:  [5. 4. 3. 2. 1.]\n",
      "Epoch: 2 |Step:  0 |batch x:  [1. 2. 3. 4. 5.] |batch y:  [10.  9.  8.  7.  6.]\n",
      "Epoch: 2 |Step:  1 |batch x:  [ 6.  7.  8.  9. 10.] |batch y:  [5. 4. 3. 2. 1.]\n",
      "\n",
      "With shuffle:\n",
      "\n",
      "Epoch: 0 |Step:  0 |batch x:  [ 6.  4. 10.  5.  8.] |batch y:  [5. 7. 1. 6. 3.]\n",
      "Epoch: 0 |Step:  1 |batch x:  [1. 9. 3. 7. 2.] |batch y:  [10.  2.  8.  4.  9.]\n",
      "Epoch: 1 |Step:  0 |batch x:  [ 6.  3.  4. 10.  2.] |batch y:  [5. 8. 7. 1. 9.]\n",
      "Epoch: 1 |Step:  1 |batch x:  [9. 1. 7. 8. 5.] |batch y:  [ 2. 10.  4.  3.  6.]\n",
      "Epoch: 2 |Step:  0 |batch x:  [ 6.  8.  7. 10.  3.] |batch y:  [5. 3. 4. 1. 8.]\n",
      "Epoch: 2 |Step:  1 |batch x:  [4. 5. 2. 9. 1.] |batch y:  [ 7.  6.  9.  2. 10.]\n"
     ]
    }
   ],
   "source": [
    "import torch\n",
    "import torch.utils.data as Data\n",
    "\n",
    "BATCH_SIZE = 5\n",
    "\n",
    "x = torch.linspace(1, 10, 10)\n",
    "y = torch.linspace(10, 1, 10)\n",
    "\n",
    "torch_dataset = Data.TensorDataset(x, y)\n",
    "loader = Data.DataLoader(\n",
    "    dataset=torch_dataset,\n",
    "    batch_size=BATCH_SIZE, \n",
    "    num_workers=2\n",
    ")\n",
    "\n",
    "\n",
    "print('\\nx:', torch_dataset.tensors[0].data.numpy(), '\\ny:', torch_dataset.tensors[1].data.numpy(), '\\n')\n",
    "print('Without shuffle:\\n')\n",
    "for epoch in range(3):\n",
    "    for step, (batch_x, batch_y) in enumerate(loader):\n",
    "        print('Epoch:', epoch, '|Step: ', step, '|batch x: ', \n",
    "              batch_x.numpy(), '|batch y: ', batch_y.numpy())\n",
    "        \n",
    "\n",
    "loader = Data.DataLoader(\n",
    "    dataset=torch_dataset,\n",
    "    batch_size=BATCH_SIZE, \n",
    "    shuffle=True,\n",
    "    num_workers=2\n",
    ")\n",
    "\n",
    "print('\\nWith shuffle:\\n')\n",
    "for epoch in range(3):\n",
    "    for step, (batch_x, batch_y) in enumerate(loader):\n",
    "        print('Epoch:', epoch, '|Step: ', step, '|batch x: ', \n",
    "              batch_x.numpy(), '|batch y: ', batch_y.numpy())"
   ]
  }
 ],
 "metadata": {
  "kernelspec": {
   "display_name": "Python 3",
   "language": "python",
   "name": "python3"
  },
  "language_info": {
   "codemirror_mode": {
    "name": "ipython",
    "version": 3
   },
   "file_extension": ".py",
   "mimetype": "text/x-python",
   "name": "python",
   "nbconvert_exporter": "python",
   "pygments_lexer": "ipython3",
   "version": "3.7.3"
  },
  "toc": {
   "base_numbering": 1,
   "nav_menu": {},
   "number_sections": true,
   "sideBar": true,
   "skip_h1_title": false,
   "title_cell": "Table of Contents",
   "title_sidebar": "Contents",
   "toc_cell": false,
   "toc_position": {},
   "toc_section_display": true,
   "toc_window_display": false
  }
 },
 "nbformat": 4,
 "nbformat_minor": 2
}
