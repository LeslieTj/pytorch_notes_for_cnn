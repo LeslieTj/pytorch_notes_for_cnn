{
 "cells": [
  {
   "cell_type": "markdown",
   "metadata": {},
   "source": [
    "# CNN Practice: MNIST Classification"
   ]
  },
  {
   "cell_type": "markdown",
   "metadata": {},
   "source": [
    "## Data Preparation"
   ]
  },
  {
   "cell_type": "code",
   "execution_count": 1,
   "metadata": {
    "scrolled": true
   },
   "outputs": [
    {
     "name": "stdout",
     "output_type": "stream",
     "text": [
      "Pytorch Version: 1.5.0\n"
     ]
    }
   ],
   "source": [
    "import torch\n",
    "import torchvision\n",
    "import torch.utils.data as Data\n",
    "from torch.autograd import Variable\n",
    "import matplotlib.pyplot as plt\n",
    "\n",
    "print('Pytorch Version:' , torch.__version__)"
   ]
  },
  {
   "cell_type": "code",
   "execution_count": 2,
   "metadata": {
    "scrolled": true
   },
   "outputs": [
    {
     "name": "stdout",
     "output_type": "stream",
     "text": [
      "Training data: \n",
      "\n",
      "data shape:  (60000, 28, 28)\n",
      "label shape:  (60000,)\n",
      "\n",
      "Peek at some training pictures:\n"
     ]
    },
    {
     "data": {
      "image/png": "[encoded data removed]",
      "text/plain": [
       "<Figure size 432x288 with 1 Axes>"
      ]
     },
     "metadata": {
      "needs_background": "light"
     },
     "output_type": "display_data"
    },
    {
     "data": {
      "image/png": "[encoded data removed]",
      "text/plain": [
       "<Figure size 432x288 with 1 Axes>"
      ]
     },
     "metadata": {
      "needs_background": "light"
     },
     "output_type": "display_data"
    }
   ],
   "source": [
    "# hyperparameters\n",
    "LR = 0.001\n",
    "BATCH_SIZE = 50\n",
    "EPOCH = 1\n",
    "DOWNLOAD_MINIST = False\n",
    "\n",
    "train_data = torchvision.datasets.MNIST(\n",
    "    root='./mnist',\n",
    "    train=True,\n",
    "    transform=torchvision.transforms.ToTensor(), # each pixel is compressed from (0,255) to (0,1)\n",
    "    download=DOWNLOAD_MINIST\n",
    ")\n",
    "\n",
    "print('Training data: \\n')\n",
    "print('data shape: ', train_data.data.numpy().shape)\n",
    "print('label shape: ', train_data.targets.numpy().shape)\n",
    "\n",
    "print('\\nPeek at some training pictures:')\n",
    "plt.imshow(train_data.data.numpy()[0], cmap='gray')\n",
    "plt.title('%i' % train_data.targets[0])\n",
    "plt.show()\n",
    "\n",
    "plt.imshow(train_data.data.numpy()[1], cmap='gray')\n",
    "plt.title('%i' % train_data.targets[1])\n",
    "plt.show()"
   ]
  },
  {
   "cell_type": "code",
   "execution_count": 3,
   "metadata": {
    "scrolled": true
   },
   "outputs": [
    {
     "name": "stdout",
     "output_type": "stream",
     "text": [
      "Original test data: \n",
      "\n",
      "data shape:  (10000, 28, 28)\n",
      "label size:  (10000,)\n",
      "\n",
      "Test data used in this notebook: \n",
      "\n",
      "data shape:  (2000, 1, 28, 28)\n",
      "label shape:  (2000,)\n"
     ]
    }
   ],
   "source": [
    "test_data = torchvision.datasets.MNIST(root='./mnist',train=False)\n",
    "\n",
    "# /255 -> compress each pixel from (0, 255) to (0,1)\n",
    "test_x = Variable(torch.unsqueeze(test_data.data, dim=1)).type(torch.FloatTensor)[:2000]/255\n",
    "test_y = test_data.targets[:2000]\n",
    "\n",
    "print('Original test data: \\n')\n",
    "print('data shape: ', test_data.data.numpy().shape)\n",
    "print('label size: ', test_data.targets.numpy().shape)\n",
    "\n",
    "print('\\nTest data used in this notebook: \\n')\n",
    "print('data shape: ', test_x.data.numpy().shape)\n",
    "print('label shape: ', test_y.data.numpy().shape)"
   ]
  },
  {
   "cell_type": "code",
   "execution_count": 4,
   "metadata": {},
   "outputs": [],
   "source": [
    "# batched data shape: (50, 1, 28, 28)\n",
    "train_loader = Data.DataLoader(\n",
    "    dataset=train_data,\n",
    "    batch_size=BATCH_SIZE, \n",
    "    shuffle=True\n",
    ")"
   ]
  },
  {
   "cell_type": "markdown",
   "metadata": {},
   "source": [
    "## Build CNN"
   ]
  },
  {
   "cell_type": "code",
   "execution_count": 5,
   "metadata": {},
   "outputs": [],
   "source": [
    "class CNN(torch.nn.Module):\n",
    "    def __init__(self):\n",
    "        super(CNN, self).__init__()\n",
    "        \n",
    "        self.conv1 = torch.nn.Sequential(\n",
    "            torch.nn.Conv2d( # apply 2D convolution\n",
    "                in_channels=1, # 28x28 black and white images, which only contain 1 channel\n",
    "                out_channels=16, # 16 filters to extract 16 features\n",
    "                kernel_size=5, # 5x5 filter\n",
    "                stride=1,\n",
    "                padding=2, # to maintain spatial size, padding = (kernel_size-stride)/2\n",
    "            ), # -> (16, 28, 28)\n",
    "            torch.nn.ReLU(), # -> (16, 28, 28)\n",
    "            torch.nn.MaxPool2d(kernel_size=2) # -> (16, 14, 14)\n",
    "        ) \n",
    "        \n",
    "        self.conv2 = torch.nn.Sequential(\n",
    "            torch.nn.Conv2d(16, 32, 5, 1, 2), # -> (32, 14, 14)\n",
    "            torch.nn.ReLU(), # -> (32, 14, 14)\n",
    "            torch.nn.MaxPool2d(2) # -> (32, 7, 7)\n",
    "        )\n",
    "        \n",
    "        self.score = torch.nn.Linear(32*7*7, 10) # we have 10 labels from 0 to 9\n",
    "        \n",
    "    def forward(self, x):\n",
    "        x = self.conv1(x) # -> (batch, 32, 14, 14)\n",
    "        x = self.conv2(x) # -> (batch, 32, 7, 7)\n",
    "        x = x.view(x.size(0), -1) # -> (batch, 32*7*7)\n",
    "        scores = self.score(x) # -> (batch, 10)\n",
    "        return scores"
   ]
  },
  {
   "cell_type": "code",
   "execution_count": 6,
   "metadata": {
    "scrolled": false
   },
   "outputs": [
    {
     "name": "stdout",
     "output_type": "stream",
     "text": [
      "CNN(\n",
      "  (conv1): Sequential(\n",
      "    (0): Conv2d(1, 16, kernel_size=(5, 5), stride=(1, 1), padding=(2, 2))\n",
      "    (1): ReLU()\n",
      "    (2): MaxPool2d(kernel_size=2, stride=2, padding=0, dilation=1, ceil_mode=False)\n",
      "  )\n",
      "  (conv2): Sequential(\n",
      "    (0): Conv2d(16, 32, kernel_size=(5, 5), stride=(1, 1), padding=(2, 2))\n",
      "    (1): ReLU()\n",
      "    (2): MaxPool2d(kernel_size=2, stride=2, padding=0, dilation=1, ceil_mode=False)\n",
      "  )\n",
      "  (score): Linear(in_features=1568, out_features=10, bias=True)\n",
      ")\n"
     ]
    }
   ],
   "source": [
    "cnn = CNN()\n",
    "print(cnn)"
   ]
  },
  {
   "cell_type": "markdown",
   "metadata": {},
   "source": [
    "## Training & Testing"
   ]
  },
  {
   "cell_type": "code",
   "execution_count": 7,
   "metadata": {
    "scrolled": true
   },
   "outputs": [
    {
     "name": "stdout",
     "output_type": "stream",
     "text": [
      "Epoch:  0 | train loss: 2.3016 | test accuracy: 0.15\n",
      "Epoch:  0 | train loss: 0.2184 | test accuracy: 0.88\n",
      "Epoch:  0 | train loss: 0.2552 | test accuracy: 0.92\n",
      "Epoch:  0 | train loss: 0.3305 | test accuracy: 0.95\n",
      "Epoch:  0 | train loss: 0.1592 | test accuracy: 0.96\n",
      "Epoch:  0 | train loss: 0.0903 | test accuracy: 0.96\n",
      "Epoch:  0 | train loss: 0.1107 | test accuracy: 0.97\n",
      "Epoch:  0 | train loss: 0.0418 | test accuracy: 0.97\n",
      "Epoch:  0 | train loss: 0.1005 | test accuracy: 0.97\n",
      "Epoch:  0 | train loss: 0.0608 | test accuracy: 0.98\n",
      "Epoch:  0 | train loss: 0.0744 | test accuracy: 0.98\n",
      "Epoch:  0 | train loss: 0.0582 | test accuracy: 0.98\n"
     ]
    }
   ],
   "source": [
    "optimizer = torch.optim.Adam(cnn.parameters(), lr=LR)\n",
    "loss_fn = torch.nn.CrossEntropyLoss()\n",
    "\n",
    "# training and testing\n",
    "for epoch in range(EPOCH):\n",
    "    for step, (batch_x, batch_y) in enumerate(train_loader):\n",
    "        batch_x = Variable(batch_x)\n",
    "        batch_y = Variable(batch_y)\n",
    "        \n",
    "        scores = cnn(batch_x)\n",
    "        loss = loss_fn(scores, batch_y)\n",
    "        optimizer.zero_grad()\n",
    "        loss.backward()\n",
    "        optimizer.step()\n",
    "        \n",
    "        # 60000 input images, batch_size = 50\n",
    "        # there are 60000/50 = 1200 steps\n",
    "        if step % 100 == 0: \n",
    "            test_output = cnn(test_x)\n",
    "            pred_y = torch.max(test_output, 1)[1].data.numpy()\n",
    "            accuracy = float((pred_y == test_y.data.numpy()).astype(int).sum()) / float(test_y.size(0))\n",
    "            print('Epoch: ', epoch, '| train loss: %.4f' % loss.data.numpy(), '| test accuracy: %.2f' % accuracy)"
   ]
  },
  {
   "cell_type": "markdown",
   "metadata": {},
   "source": [
    "## Prediction"
   ]
  },
  {
   "cell_type": "code",
   "execution_count": 8,
   "metadata": {
    "scrolled": true
   },
   "outputs": [
    {
     "name": "stdout",
     "output_type": "stream",
     "text": [
      "prediction:  [7 2 1 0 4 1 4 9 5 9]\n",
      "true label:  [7 2 1 0 4 1 4 9 5 9]\n"
     ]
    }
   ],
   "source": [
    "# print 10 predictions from test data\n",
    "test_output = cnn(test_x[:10])\n",
    "pred_y = torch.max(test_output, 1)[1].data.numpy()\n",
    "print('prediction: ', pred_y)\n",
    "print('true label: ', test_y[:10].numpy())"
   ]
  }
 ],
 "metadata": {
  "kernelspec": {
   "display_name": "Python 3",
   "language": "python",
   "name": "python3"
  },
  "language_info": {
   "codemirror_mode": {
    "name": "ipython",
    "version": 3
   },
   "file_extension": ".py",
   "mimetype": "text/x-python",
   "name": "python",
   "nbconvert_exporter": "python",
   "pygments_lexer": "ipython3",
   "version": "3.7.3"
  },
  "toc": {
   "base_numbering": 1,
   "nav_menu": {},
   "number_sections": true,
   "sideBar": true,
   "skip_h1_title": false,
   "title_cell": "Table of Contents",
   "title_sidebar": "Contents",
   "toc_cell": false,
   "toc_position": {},
   "toc_section_display": true,
   "toc_window_display": false
  }
 },
 "nbformat": 4,
 "nbformat_minor": 2
}
