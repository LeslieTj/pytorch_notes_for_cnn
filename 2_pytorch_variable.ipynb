{
 "cells": [
  {
   "cell_type": "markdown",
   "metadata": {},
   "source": [
    "# PyTorch Variable"
   ]
  },
  {
   "cell_type": "markdown",
   "metadata": {},
   "source": [
    "In PyTorch, `Variable` is **Node** in a computational graph. Unlike TensorFlow, which builds a graph and run many times, PyTorch is **dynamic**, which means that PyTorch builds a new graph everytime it does a forward pass."
   ]
  },
  {
   "cell_type": "code",
   "execution_count": 1,
   "metadata": {},
   "outputs": [
    {
     "name": "stdout",
     "output_type": "stream",
     "text": [
      "tensor([[1., 2.],\n",
      "        [3., 4.]]) \n",
      "\n",
      " tensor([[1., 2.],\n",
      "        [3., 4.]], requires_grad=True) \n",
      "\n",
      " tensor([[ 1.,  4.],\n",
      "        [ 9., 16.]]) \n",
      "\n",
      " tensor([[ 1.,  4.],\n",
      "        [ 9., 16.]], grad_fn=<MulBackward0>)\n"
     ]
    }
   ],
   "source": [
    "import torch\n",
    "from torch.autograd import Variable\n",
    "\n",
    "tensor = torch.FloatTensor([[1, 2], [3, 4]])\n",
    "variable = Variable(tensor, requires_grad=True)\n",
    "\n",
    "print(tensor, '\\n\\n', variable, \n",
    "     '\\n\\n', tensor * tensor, '\\n\\n', variable * variable)"
   ]
  },
  {
   "cell_type": "code",
   "execution_count": 2,
   "metadata": {},
   "outputs": [
    {
     "name": "stdout",
     "output_type": "stream",
     "text": [
      "tensor(7.5000) \n",
      "\n",
      " tensor(7.5000, grad_fn=<MeanBackward0>)\n"
     ]
    }
   ],
   "source": [
    "t_out = torch.mean(tensor * tensor)\n",
    "v_out = torch.mean(variable * variable)\n",
    "\n",
    "print(t_out, '\\n\\n', v_out)"
   ]
  },
  {
   "cell_type": "markdown",
   "metadata": {},
   "source": [
    "We can interpret $v\\_out$ as $Loss$, and $variable$ as $W$, and then use backpropagation to compute $\\nabla_{W}L$:"
   ]
  },
  {
   "cell_type": "code",
   "execution_count": 3,
   "metadata": {},
   "outputs": [
    {
     "name": "stdout",
     "output_type": "stream",
     "text": [
      "tensor([[1., 2.],\n",
      "        [3., 4.]]) \n",
      "\n",
      " tensor([[0.5000, 1.0000],\n",
      "        [1.5000, 2.0000]])\n"
     ]
    }
   ],
   "source": [
    "v_out.backward()\n",
    "\n",
    "# v_out = 1/4 * sum(variable * variable)\n",
    "# d(v_out)/d(variable) = 1/4 * 2 * varible = variable/2\n",
    "print(variable.data, # variable.data is a tensor, and we can convert it into numpy array using variable.data.numpy()\n",
    "      '\\n\\n', variable.grad)"
   ]
  }
 ],
 "metadata": {
  "kernelspec": {
   "display_name": "Python 3",
   "language": "python",
   "name": "python3"
  },
  "language_info": {
   "codemirror_mode": {
    "name": "ipython",
    "version": 3
   },
   "file_extension": ".py",
   "mimetype": "text/x-python",
   "name": "python",
   "nbconvert_exporter": "python",
   "pygments_lexer": "ipython3",
   "version": "3.7.3"
  },
  "toc": {
   "base_numbering": 1,
   "nav_menu": {},
   "number_sections": true,
   "sideBar": true,
   "skip_h1_title": false,
   "title_cell": "Table of Contents",
   "title_sidebar": "Contents",
   "toc_cell": false,
   "toc_position": {},
   "toc_section_display": true,
   "toc_window_display": false
  }
 },
 "nbformat": 4,
 "nbformat_minor": 2
}
